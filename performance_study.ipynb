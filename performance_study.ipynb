{
 "cells": [
  {
   "cell_type": "code",
   "execution_count": 1,
   "id": "0f2de7ab-4879-4e85-af1f-04000f1ef1f8",
   "metadata": {},
   "outputs": [],
   "source": [
    "import os\n",
    "import time\n",
    "import pandas as pd\n",
    "import numpy as np\n",
    "import json\n",
    "import matplotlib.pyplot as plt\n",
    "import warnings\n",
    "import seaborn as sns\n",
    "warnings.filterwarnings(\"ignore\")\n",
    "\n",
    "import allocation\n",
    "import portfolio_summary\n",
    "import utils as hrp_utils"
   ]
  },
  {
   "cell_type": "code",
   "execution_count": 2,
   "id": "167fc36b-41b3-4c6c-8a9b-f209a7f65cdb",
   "metadata": {},
   "outputs": [
    {
     "data": {
      "text/plain": [
       "<module 'portfolio_summary' from '/Users/vdp/projects/hierarchical_risk_parity/portfolio_summary.py'>"
      ]
     },
     "execution_count": 2,
     "metadata": {},
     "output_type": "execute_result"
    }
   ],
   "source": [
    "import importlib\n",
    "importlib.reload(allocation)\n",
    "importlib.reload(hrp_utils)\n",
    "importlib.reload(portfolio_summary)"
   ]
  },
  {
   "cell_type": "code",
   "execution_count": 3,
   "id": "44abde68-7277-465a-b53b-bd444ccb4fc4",
   "metadata": {},
   "outputs": [],
   "source": [
    "# directory information\n",
    "CUR_DIR = os.getcwd()\n",
    "DATA_FOLDER = os.path.join(CUR_DIR, \"data\")\n",
    "ALL_DATA = os.path.join(DATA_FOLDER, \"dataset.feather\")\n",
    "SNP_CONSTITUENTS = os.path.join(DATA_FOLDER, \"snp_constituents.json\")"
   ]
  },
  {
   "cell_type": "markdown",
   "id": "4a5d2925-3c3f-45dc-aa91-87b872749cf4",
   "metadata": {},
   "source": [
    "## Loading Data\n",
    "\n",
    "#### NOTE: SNP Constituents are calculated at the start of the each year and remain the same for entire year"
   ]
  },
  {
   "cell_type": "code",
   "execution_count": 4,
   "id": "d862ab06-a21e-460c-9552-d45677e55a9a",
   "metadata": {},
   "outputs": [
    {
     "data": {
      "text/html": [
       "<div>\n",
       "<style scoped>\n",
       "    .dataframe tbody tr th:only-of-type {\n",
       "        vertical-align: middle;\n",
       "    }\n",
       "\n",
       "    .dataframe tbody tr th {\n",
       "        vertical-align: top;\n",
       "    }\n",
       "\n",
       "    .dataframe thead th {\n",
       "        text-align: right;\n",
       "    }\n",
       "</style>\n",
       "<table border=\"1\" class=\"dataframe\">\n",
       "  <thead>\n",
       "    <tr style=\"text-align: right;\">\n",
       "      <th></th>\n",
       "      <th>date</th>\n",
       "      <th>ticker</th>\n",
       "      <th>permno</th>\n",
       "      <th>ret</th>\n",
       "      <th>mkt_cap</th>\n",
       "      <th>shrout</th>\n",
       "      <th>prc</th>\n",
       "      <th>year</th>\n",
       "    </tr>\n",
       "  </thead>\n",
       "  <tbody>\n",
       "    <tr>\n",
       "      <th>0</th>\n",
       "      <td>2000-01-03</td>\n",
       "      <td>ROK</td>\n",
       "      <td>84381</td>\n",
       "      <td>0.031332</td>\n",
       "      <td>9392211.250</td>\n",
       "      <td>190222.0</td>\n",
       "      <td>49.3750</td>\n",
       "      <td>2000</td>\n",
       "    </tr>\n",
       "    <tr>\n",
       "      <th>1</th>\n",
       "      <td>2000-01-04</td>\n",
       "      <td>ROK</td>\n",
       "      <td>84381</td>\n",
       "      <td>-0.036709</td>\n",
       "      <td>9047433.875</td>\n",
       "      <td>190222.0</td>\n",
       "      <td>47.5625</td>\n",
       "      <td>2000</td>\n",
       "    </tr>\n",
       "    <tr>\n",
       "      <th>2</th>\n",
       "      <td>2000-01-05</td>\n",
       "      <td>ROK</td>\n",
       "      <td>84381</td>\n",
       "      <td>0.005256</td>\n",
       "      <td>9094989.375</td>\n",
       "      <td>190222.0</td>\n",
       "      <td>47.8125</td>\n",
       "      <td>2000</td>\n",
       "    </tr>\n",
       "    <tr>\n",
       "      <th>3</th>\n",
       "      <td>2000-01-06</td>\n",
       "      <td>ROK</td>\n",
       "      <td>84381</td>\n",
       "      <td>-0.016993</td>\n",
       "      <td>8940434.000</td>\n",
       "      <td>190222.0</td>\n",
       "      <td>47.0000</td>\n",
       "      <td>2000</td>\n",
       "    </tr>\n",
       "    <tr>\n",
       "      <th>4</th>\n",
       "      <td>2000-01-07</td>\n",
       "      <td>ROK</td>\n",
       "      <td>84381</td>\n",
       "      <td>0.027926</td>\n",
       "      <td>9190100.375</td>\n",
       "      <td>190222.0</td>\n",
       "      <td>48.3125</td>\n",
       "      <td>2000</td>\n",
       "    </tr>\n",
       "  </tbody>\n",
       "</table>\n",
       "</div>"
      ],
      "text/plain": [
       "        date ticker  permno       ret      mkt_cap    shrout      prc  year\n",
       "0 2000-01-03    ROK   84381  0.031332  9392211.250  190222.0  49.3750  2000\n",
       "1 2000-01-04    ROK   84381 -0.036709  9047433.875  190222.0  47.5625  2000\n",
       "2 2000-01-05    ROK   84381  0.005256  9094989.375  190222.0  47.8125  2000\n",
       "3 2000-01-06    ROK   84381 -0.016993  8940434.000  190222.0  47.0000  2000\n",
       "4 2000-01-07    ROK   84381  0.027926  9190100.375  190222.0  48.3125  2000"
      ]
     },
     "execution_count": 4,
     "metadata": {},
     "output_type": "execute_result"
    }
   ],
   "source": [
    "df = pd.read_feather(ALL_DATA)\n",
    "df.head()"
   ]
  },
  {
   "cell_type": "markdown",
   "id": "bce5a135-fcab-4222-b9fc-b923fe398907",
   "metadata": {},
   "source": [
    "#### Filtering for required data"
   ]
  },
  {
   "cell_type": "code",
   "execution_count": 5,
   "id": "54ad48da-b882-46ac-b3e1-92e5a8266a10",
   "metadata": {},
   "outputs": [
    {
     "data": {
      "text/html": [
       "<div>\n",
       "<style scoped>\n",
       "    .dataframe tbody tr th:only-of-type {\n",
       "        vertical-align: middle;\n",
       "    }\n",
       "\n",
       "    .dataframe tbody tr th {\n",
       "        vertical-align: top;\n",
       "    }\n",
       "\n",
       "    .dataframe thead th {\n",
       "        text-align: right;\n",
       "    }\n",
       "</style>\n",
       "<table border=\"1\" class=\"dataframe\">\n",
       "  <thead>\n",
       "    <tr style=\"text-align: right;\">\n",
       "      <th></th>\n",
       "      <th>date</th>\n",
       "      <th>permno</th>\n",
       "      <th>ret</th>\n",
       "      <th>year</th>\n",
       "      <th>mkt_cap</th>\n",
       "    </tr>\n",
       "  </thead>\n",
       "  <tbody>\n",
       "    <tr>\n",
       "      <th>0</th>\n",
       "      <td>2000-01-03</td>\n",
       "      <td>84381</td>\n",
       "      <td>0.031332</td>\n",
       "      <td>2000</td>\n",
       "      <td>9392211.250</td>\n",
       "    </tr>\n",
       "    <tr>\n",
       "      <th>1</th>\n",
       "      <td>2000-01-04</td>\n",
       "      <td>84381</td>\n",
       "      <td>-0.036709</td>\n",
       "      <td>2000</td>\n",
       "      <td>9047433.875</td>\n",
       "    </tr>\n",
       "    <tr>\n",
       "      <th>2</th>\n",
       "      <td>2000-01-05</td>\n",
       "      <td>84381</td>\n",
       "      <td>0.005256</td>\n",
       "      <td>2000</td>\n",
       "      <td>9094989.375</td>\n",
       "    </tr>\n",
       "    <tr>\n",
       "      <th>3</th>\n",
       "      <td>2000-01-06</td>\n",
       "      <td>84381</td>\n",
       "      <td>-0.016993</td>\n",
       "      <td>2000</td>\n",
       "      <td>8940434.000</td>\n",
       "    </tr>\n",
       "    <tr>\n",
       "      <th>4</th>\n",
       "      <td>2000-01-07</td>\n",
       "      <td>84381</td>\n",
       "      <td>0.027926</td>\n",
       "      <td>2000</td>\n",
       "      <td>9190100.375</td>\n",
       "    </tr>\n",
       "  </tbody>\n",
       "</table>\n",
       "</div>"
      ],
      "text/plain": [
       "        date  permno       ret  year      mkt_cap\n",
       "0 2000-01-03   84381  0.031332  2000  9392211.250\n",
       "1 2000-01-04   84381 -0.036709  2000  9047433.875\n",
       "2 2000-01-05   84381  0.005256  2000  9094989.375\n",
       "3 2000-01-06   84381 -0.016993  2000  8940434.000\n",
       "4 2000-01-07   84381  0.027926  2000  9190100.375"
      ]
     },
     "execution_count": 5,
     "metadata": {},
     "output_type": "execute_result"
    }
   ],
   "source": [
    "data_df = df[[\"date\", \"permno\", \"ret\", \"year\", \"mkt_cap\"]]\n",
    "data_df.head()"
   ]
  },
  {
   "cell_type": "markdown",
   "id": "99e7fd19-af37-49e5-b784-9f882d3fb00d",
   "metadata": {},
   "source": [
    "#### Cleaning the dataset for each year"
   ]
  },
  {
   "cell_type": "code",
   "execution_count": 6,
   "id": "139a48a4-6e33-4573-b0ff-6ae24efd986a",
   "metadata": {},
   "outputs": [
    {
     "data": {
      "text/html": [
       "<div>\n",
       "<style scoped>\n",
       "    .dataframe tbody tr th:only-of-type {\n",
       "        vertical-align: middle;\n",
       "    }\n",
       "\n",
       "    .dataframe tbody tr th {\n",
       "        vertical-align: top;\n",
       "    }\n",
       "\n",
       "    .dataframe thead th {\n",
       "        text-align: right;\n",
       "    }\n",
       "</style>\n",
       "<table border=\"1\" class=\"dataframe\">\n",
       "  <thead>\n",
       "    <tr style=\"text-align: right;\">\n",
       "      <th></th>\n",
       "      <th>date</th>\n",
       "      <th>permno</th>\n",
       "      <th>ret</th>\n",
       "      <th>year</th>\n",
       "      <th>mkt_cap</th>\n",
       "    </tr>\n",
       "  </thead>\n",
       "  <tbody>\n",
       "    <tr>\n",
       "      <th>0</th>\n",
       "      <td>2000-01-03</td>\n",
       "      <td>84381</td>\n",
       "      <td>0.031332</td>\n",
       "      <td>2000</td>\n",
       "      <td>9392211.250</td>\n",
       "    </tr>\n",
       "    <tr>\n",
       "      <th>1</th>\n",
       "      <td>2000-01-04</td>\n",
       "      <td>84381</td>\n",
       "      <td>-0.036709</td>\n",
       "      <td>2000</td>\n",
       "      <td>9047433.875</td>\n",
       "    </tr>\n",
       "    <tr>\n",
       "      <th>2</th>\n",
       "      <td>2000-01-05</td>\n",
       "      <td>84381</td>\n",
       "      <td>0.005256</td>\n",
       "      <td>2000</td>\n",
       "      <td>9094989.375</td>\n",
       "    </tr>\n",
       "    <tr>\n",
       "      <th>3</th>\n",
       "      <td>2000-01-06</td>\n",
       "      <td>84381</td>\n",
       "      <td>-0.016993</td>\n",
       "      <td>2000</td>\n",
       "      <td>8940434.000</td>\n",
       "    </tr>\n",
       "    <tr>\n",
       "      <th>4</th>\n",
       "      <td>2000-01-07</td>\n",
       "      <td>84381</td>\n",
       "      <td>0.027926</td>\n",
       "      <td>2000</td>\n",
       "      <td>9190100.375</td>\n",
       "    </tr>\n",
       "  </tbody>\n",
       "</table>\n",
       "</div>"
      ],
      "text/plain": [
       "        date  permno       ret  year      mkt_cap\n",
       "0 2000-01-03   84381  0.031332  2000  9392211.250\n",
       "1 2000-01-04   84381 -0.036709  2000  9047433.875\n",
       "2 2000-01-05   84381  0.005256  2000  9094989.375\n",
       "3 2000-01-06   84381 -0.016993  2000  8940434.000\n",
       "4 2000-01-07   84381  0.027926  2000  9190100.375"
      ]
     },
     "execution_count": 6,
     "metadata": {},
     "output_type": "execute_result"
    }
   ],
   "source": [
    "data_df = data_df.groupby(\"year\").apply(lambda x: hrp_utils.clean_dataset(x)).reset_index(drop=True)\n",
    "data_df.head()"
   ]
  },
  {
   "cell_type": "markdown",
   "id": "81487994-6dba-4f6b-aa4e-787923100e5e",
   "metadata": {},
   "source": [
    "### Bases Cases: \n",
    "    1. Market weighted returns\n",
    "    2. Equal weighted returns"
   ]
  },
  {
   "cell_type": "markdown",
   "id": "7a22d387-116b-49fc-a4d8-25ec94474b37",
   "metadata": {},
   "source": [
    "#### Market weights are calculated based on latest previous year (lagged) market cap for each stock"
   ]
  },
  {
   "cell_type": "code",
   "execution_count": 7,
   "id": "6f5c7cf4-49fa-4301-bbf7-8bc1773b8888",
   "metadata": {},
   "outputs": [
    {
     "data": {
      "text/html": [
       "<div>\n",
       "<style scoped>\n",
       "    .dataframe tbody tr th:only-of-type {\n",
       "        vertical-align: middle;\n",
       "    }\n",
       "\n",
       "    .dataframe tbody tr th {\n",
       "        vertical-align: top;\n",
       "    }\n",
       "\n",
       "    .dataframe thead th {\n",
       "        text-align: right;\n",
       "    }\n",
       "</style>\n",
       "<table border=\"1\" class=\"dataframe\">\n",
       "  <thead>\n",
       "    <tr style=\"text-align: right;\">\n",
       "      <th></th>\n",
       "      <th>year</th>\n",
       "      <th>permno</th>\n",
       "      <th>mkt_cap</th>\n",
       "      <th>lag_mkt_cap</th>\n",
       "    </tr>\n",
       "  </thead>\n",
       "  <tbody>\n",
       "    <tr>\n",
       "      <th>0</th>\n",
       "      <td>2001</td>\n",
       "      <td>84381</td>\n",
       "      <td>3.285829e+06</td>\n",
       "      <td>8.701516e+06</td>\n",
       "    </tr>\n",
       "    <tr>\n",
       "      <th>1</th>\n",
       "      <td>2001</td>\n",
       "      <td>81061</td>\n",
       "      <td>1.069640e+07</td>\n",
       "      <td>1.019093e+07</td>\n",
       "    </tr>\n",
       "    <tr>\n",
       "      <th>2</th>\n",
       "      <td>2001</td>\n",
       "      <td>85914</td>\n",
       "      <td>1.570485e+07</td>\n",
       "      <td>6.112195e+06</td>\n",
       "    </tr>\n",
       "    <tr>\n",
       "      <th>3</th>\n",
       "      <td>2001</td>\n",
       "      <td>21207</td>\n",
       "      <td>3.748044e+06</td>\n",
       "      <td>2.869930e+06</td>\n",
       "    </tr>\n",
       "    <tr>\n",
       "      <th>4</th>\n",
       "      <td>2001</td>\n",
       "      <td>87800</td>\n",
       "      <td>2.240735e+06</td>\n",
       "      <td>1.603648e+07</td>\n",
       "    </tr>\n",
       "  </tbody>\n",
       "</table>\n",
       "</div>"
      ],
      "text/plain": [
       "   year  permno       mkt_cap   lag_mkt_cap\n",
       "0  2001   84381  3.285829e+06  8.701516e+06\n",
       "1  2001   81061  1.069640e+07  1.019093e+07\n",
       "2  2001   85914  1.570485e+07  6.112195e+06\n",
       "3  2001   21207  3.748044e+06  2.869930e+06\n",
       "4  2001   87800  2.240735e+06  1.603648e+07"
      ]
     },
     "execution_count": 7,
     "metadata": {},
     "output_type": "execute_result"
    }
   ],
   "source": [
    "mkt_df = data_df.drop_duplicates(subset=[\"year\", \"permno\"], keep=\"last\")[[\"year\", \"permno\", \"mkt_cap\"]].reset_index(drop=True)\n",
    "mkt_df[\"lag_mkt_cap\"] =  mkt_df.groupby([\"permno\"])[\"mkt_cap\"].shift()\n",
    "mkt_df = mkt_df.dropna().reset_index(drop=True)\n",
    "mkt_df.head()"
   ]
  },
  {
   "cell_type": "markdown",
   "id": "f6876572-4d9c-4fa1-a449-7a630f5d4c67",
   "metadata": {},
   "source": [
    "#### Using compute functions form allocation library to get market and equal weights"
   ]
  },
  {
   "cell_type": "code",
   "execution_count": 8,
   "id": "4ca2bbd8-1fd5-4b61-be1f-00f8807f4ae1",
   "metadata": {},
   "outputs": [],
   "source": [
    "mkt_wgt_df = mkt_df.groupby(\"year\").apply(lambda x: allocation.compute_mkt_weights(x)).reset_index()\n",
    "eq_wgt_df = mkt_df.groupby(\"year\").apply(lambda x: allocation.compute_unif_weights(x)).reset_index()"
   ]
  },
  {
   "cell_type": "markdown",
   "id": "23292236-e8ab-4a69-a45d-97ad71277c59",
   "metadata": {},
   "source": [
    "#### Calculating daily returns for the market weighted and equal weighted portfolio starting 2001"
   ]
  },
  {
   "cell_type": "code",
   "execution_count": 9,
   "id": "376ec19e-3868-46f4-8250-af8b947565d9",
   "metadata": {},
   "outputs": [
    {
     "data": {
      "text/html": [
       "<div>\n",
       "<style scoped>\n",
       "    .dataframe tbody tr th:only-of-type {\n",
       "        vertical-align: middle;\n",
       "    }\n",
       "\n",
       "    .dataframe tbody tr th {\n",
       "        vertical-align: top;\n",
       "    }\n",
       "\n",
       "    .dataframe thead th {\n",
       "        text-align: right;\n",
       "    }\n",
       "</style>\n",
       "<table border=\"1\" class=\"dataframe\">\n",
       "  <thead>\n",
       "    <tr style=\"text-align: right;\">\n",
       "      <th></th>\n",
       "      <th>MKT_ret</th>\n",
       "      <th>EQ_ret</th>\n",
       "    </tr>\n",
       "    <tr>\n",
       "      <th>date</th>\n",
       "      <th></th>\n",
       "      <th></th>\n",
       "    </tr>\n",
       "  </thead>\n",
       "  <tbody>\n",
       "    <tr>\n",
       "      <th>2001-01-02</th>\n",
       "      <td>-0.028877</td>\n",
       "      <td>-0.028219</td>\n",
       "    </tr>\n",
       "    <tr>\n",
       "      <th>2001-01-03</th>\n",
       "      <td>0.055665</td>\n",
       "      <td>0.046295</td>\n",
       "    </tr>\n",
       "    <tr>\n",
       "      <th>2001-01-04</th>\n",
       "      <td>-0.012854</td>\n",
       "      <td>-0.009114</td>\n",
       "    </tr>\n",
       "    <tr>\n",
       "      <th>2001-01-05</th>\n",
       "      <td>-0.025212</td>\n",
       "      <td>-0.020683</td>\n",
       "    </tr>\n",
       "    <tr>\n",
       "      <th>2001-01-08</th>\n",
       "      <td>-0.001344</td>\n",
       "      <td>0.002724</td>\n",
       "    </tr>\n",
       "    <tr>\n",
       "      <th>...</th>\n",
       "      <td>...</td>\n",
       "      <td>...</td>\n",
       "    </tr>\n",
       "    <tr>\n",
       "      <th>2022-12-23</th>\n",
       "      <td>0.004794</td>\n",
       "      <td>0.006778</td>\n",
       "    </tr>\n",
       "    <tr>\n",
       "      <th>2022-12-27</th>\n",
       "      <td>-0.007404</td>\n",
       "      <td>0.000080</td>\n",
       "    </tr>\n",
       "    <tr>\n",
       "      <th>2022-12-28</th>\n",
       "      <td>-0.011456</td>\n",
       "      <td>-0.013615</td>\n",
       "    </tr>\n",
       "    <tr>\n",
       "      <th>2022-12-29</th>\n",
       "      <td>0.020966</td>\n",
       "      <td>0.017973</td>\n",
       "    </tr>\n",
       "    <tr>\n",
       "      <th>2022-12-30</th>\n",
       "      <td>-0.002355</td>\n",
       "      <td>-0.004175</td>\n",
       "    </tr>\n",
       "  </tbody>\n",
       "</table>\n",
       "<p>5535 rows × 2 columns</p>\n",
       "</div>"
      ],
      "text/plain": [
       "             MKT_ret    EQ_ret\n",
       "date                          \n",
       "2001-01-02 -0.028877 -0.028219\n",
       "2001-01-03  0.055665  0.046295\n",
       "2001-01-04 -0.012854 -0.009114\n",
       "2001-01-05 -0.025212 -0.020683\n",
       "2001-01-08 -0.001344  0.002724\n",
       "...              ...       ...\n",
       "2022-12-23  0.004794  0.006778\n",
       "2022-12-27 -0.007404  0.000080\n",
       "2022-12-28 -0.011456 -0.013615\n",
       "2022-12-29  0.020966  0.017973\n",
       "2022-12-30 -0.002355 -0.004175\n",
       "\n",
       "[5535 rows x 2 columns]"
      ]
     },
     "execution_count": 9,
     "metadata": {},
     "output_type": "execute_result"
    }
   ],
   "source": [
    "base_df = data_df.merge(mkt_wgt_df, on=[\"year\", \"permno\"], how=\"left\")\n",
    "base_df = base_df[base_df[\"year\"] > 2000]\n",
    "\n",
    "base_df = base_df.merge(eq_wgt_df, on=[\"year\", \"permno\"], how=\"left\")\n",
    "base_df[\"MKT_ret\"] = base_df[\"ret\"] * base_df[\"MKT\"]\n",
    "base_df[\"EQ_ret\"] = base_df[\"ret\"] * base_df[\"EQ\"]\n",
    "\n",
    "# daily returns of the portfolio\n",
    "base_ret_df = base_df.groupby(\"date\")[\"MKT_ret\", \"EQ_ret\"].sum()\n",
    "base_ret_df"
   ]
  },
  {
   "cell_type": "markdown",
   "id": "46e96522-f80f-4cfa-a738-a06251ce7ae7",
   "metadata": {},
   "source": [
    "## HRP Performance with Different Linkages"
   ]
  },
  {
   "cell_type": "code",
   "execution_count": 10,
   "id": "ae51bbfe-e6fe-464f-a4ee-613c71874cc0",
   "metadata": {},
   "outputs": [],
   "source": [
    "linkage_types = [\"single\", \"complete\", \"ward\", \"average\"]"
   ]
  },
  {
   "cell_type": "markdown",
   "id": "664475de-261b-415d-8604-6c7a283bd6ff",
   "metadata": {},
   "source": [
    "### Splitting dataset by year, getting weights based on previous year correlations, measuring weighted returns for current year "
   ]
  },
  {
   "cell_type": "code",
   "execution_count": null,
   "id": "7639d8a1-040e-4b48-a2a7-6803913a289d",
   "metadata": {},
   "outputs": [],
   "source": [
    "%%time\n",
    "test_df_lst = list()\n",
    "\n",
    "for year in range(2001, 2023):\n",
    "    test_df = data_df[data_df[\"year\"] == year].set_index(\"permno\")\n",
    "    stocks = test_df.index\n",
    "    \n",
    "    form_df = data_df[data_df[\"year\"] == (year - 1)]\n",
    "    form_df = form_df[form_df[\"permno\"].isin(stocks)]\n",
    "    \n",
    "    weights_list = list()\n",
    "    for linkage_type in linkage_types:\n",
    "        weight_df = allocation.compute_hrp_weights(df=form_df, linkage_type=linkage_type).to_frame()\n",
    "        test_df = test_df.join(weight_df)\n",
    "        \n",
    "        wgt_ret = \"HRP_\" + linkage_type.upper() + \"_ret\"\n",
    "        test_df[wgt_ret] = test_df[\"ret\"] * test_df[f\"HRP_{linkage_type}_wgt\"]\n",
    "    \n",
    "    test_df_lst.append(test_df)"
   ]
  },
  {
   "cell_type": "markdown",
   "id": "f5a214a8-4b08-42b5-8b76-0cb62ccf052c",
   "metadata": {},
   "source": [
    "### Portfolio daily returns using different linkages for HRP"
   ]
  },
  {
   "cell_type": "code",
   "execution_count": null,
   "id": "ce96d503-44db-4da3-8772-3d06e0db7bac",
   "metadata": {},
   "outputs": [],
   "source": [
    "ret_df = pd.concat(test_df_lst, ignore_index=True, axis=0)\n",
    "wgt_ret_cols = [\"HRP_\" + linkage_type.upper() + \"_ret\" for linkage_type in linkage_types]\n",
    "\n",
    "daily_ret_df = ret_df.groupby(\"date\")[wgt_ret_cols].sum()\n",
    "daily_ret_df"
   ]
  },
  {
   "cell_type": "markdown",
   "id": "73fcaa5c-1ce1-4346-a62a-f3b3d3469886",
   "metadata": {},
   "source": [
    "#### Adding base cases to the returns dataframe"
   ]
  },
  {
   "cell_type": "code",
   "execution_count": null,
   "id": "d615d8ed-c1b2-44a9-b404-5fb167fb1208",
   "metadata": {},
   "outputs": [],
   "source": [
    "daily_ret_df = base_ret_df.join(daily_ret_df)\n",
    "daily_ret_df"
   ]
  },
  {
   "cell_type": "markdown",
   "id": "eb2da013-54fb-46e9-882a-bceae77e898a",
   "metadata": {},
   "source": [
    "### Cumulative daily returns"
   ]
  },
  {
   "cell_type": "code",
   "execution_count": null,
   "id": "13680edf-a185-4fd3-8b72-7c3229075790",
   "metadata": {},
   "outputs": [],
   "source": [
    "cum_ret_df = ((1 + daily_ret_df).cumprod() - 1) * 100\n",
    "cum_ret_df"
   ]
  },
  {
   "cell_type": "markdown",
   "id": "d384c80a-f02e-42c6-87be-f0812437f4af",
   "metadata": {},
   "source": [
    "#### Plotting cumulative returns"
   ]
  },
  {
   "cell_type": "code",
   "execution_count": null,
   "id": "18048c66-aa36-484f-b7df-346ad85d5720",
   "metadata": {},
   "outputs": [],
   "source": [
    "cum_ret_df.plot(figsize=(10,6))\n",
    "plt.title(\"SNP500 Constituents Cumulative Performance (2001 - 2022)\")\n",
    "plt.xlabel(\"Year\")\n",
    "plt.ylabel(\"Return (%)\")\n",
    "plt.show()"
   ]
  },
  {
   "cell_type": "markdown",
   "id": "0ca0b459-d071-4178-bdbc-4f86790a8d7d",
   "metadata": {},
   "source": [
    "## Summarising portfolio performance statistic across 2001 - 2022 period"
   ]
  },
  {
   "cell_type": "code",
   "execution_count": null,
   "id": "71f62c81-2298-4b44-a22f-0e44f248235f",
   "metadata": {},
   "outputs": [],
   "source": [
    "summary_df = portfolio_summary.compute_portfolio_summary(ret_df=daily_ret_df)\n",
    "summary_df"
   ]
  },
  {
   "cell_type": "code",
   "execution_count": null,
   "id": "6d2f3214-825e-4c99-acdc-980b17edda46",
   "metadata": {},
   "outputs": [],
   "source": []
  },
  {
   "cell_type": "code",
   "execution_count": null,
   "id": "40f91068-249e-4903-9b8b-ee97ae7cd43e",
   "metadata": {},
   "outputs": [],
   "source": []
  }
 ],
 "metadata": {
  "kernelspec": {
   "display_name": "Python 3 (ipykernel)",
   "language": "python",
   "name": "python3"
  },
  "language_info": {
   "codemirror_mode": {
    "name": "ipython",
    "version": 3
   },
   "file_extension": ".py",
   "mimetype": "text/x-python",
   "name": "python",
   "nbconvert_exporter": "python",
   "pygments_lexer": "ipython3",
   "version": "3.9.13"
  }
 },
 "nbformat": 4,
 "nbformat_minor": 5
}
